{
 "cells": [
  {
   "cell_type": "code",
   "execution_count": 1,
   "metadata": {},
   "outputs": [
    {
     "data": {
      "text/plain": [
       "'1.25.2'"
      ]
     },
     "execution_count": 1,
     "metadata": {},
     "output_type": "execute_result"
    }
   ],
   "source": [
    "import numpy as np\n",
    "np.__version__"
   ]
  },
  {
   "cell_type": "code",
   "execution_count": 2,
   "metadata": {},
   "outputs": [
    {
     "name": "stdout",
     "output_type": "stream",
     "text": [
      "None of the elements in the array are zero.\n"
     ]
    }
   ],
   "source": [
    "import numpy as np\n",
    "your_array = np.array([1, 2, 3, 4, 5])\n",
    "result = np.all(your_array != 0)\n",
    "if result:\n",
    "    print(\"None of the elements in the array are zero.\")\n",
    "else:\n",
    "    print(\"There are zero elements in the array.\")"
   ]
  },
  {
   "cell_type": "code",
   "execution_count": 3,
   "metadata": {},
   "outputs": [
    {
     "name": "stdout",
     "output_type": "stream",
     "text": [
      "Array1 > Array2:\n",
      "[False False  True False  True]\n",
      "\n",
      "Array1 >= Array2:\n",
      "[False  True  True False  True]\n",
      "\n",
      "Array1 < Array2:\n",
      "[ True False False  True False]\n",
      "\n",
      "Array1 <= Array2:\n",
      "[ True  True False  True False]\n"
     ]
    }
   ],
   "source": [
    "import numpy as np\n",
    "array1 = np.array([1, 2, 3, 4, 5])\n",
    "array2 = np.array([3, 2, 2, 5, 4])\n",
    "greater_than_result = array1 > array2\n",
    "greater_equal_result = array1 >= array2\n",
    "less_than_result = array1 < array2\n",
    "less_equal_result = array1 <= array2\n",
    "print(\"Array1 > Array2:\")\n",
    "print(greater_than_result)\n",
    "\n",
    "print(\"\\nArray1 >= Array2:\")\n",
    "print(greater_equal_result)\n",
    "\n",
    "print(\"\\nArray1 < Array2:\")\n",
    "print(less_than_result)\n",
    "\n",
    "print(\"\\nArray1 <= Array2:\")\n",
    "print(less_equal_result)"
   ]
  },
  {
   "cell_type": "code",
   "execution_count": 4,
   "metadata": {},
   "outputs": [
    {
     "name": "stdout",
     "output_type": "stream",
     "text": [
      "Array: [  1   7  13 105]\n",
      "Size of memory occupied by the array: 16 bytes (0.02 KB)\n"
     ]
    }
   ],
   "source": [
    "import numpy as np\n",
    "my_array = np.array([1, 7, 13, 105])\n",
    "memory_size_bytes = my_array.nbytes\n",
    "memory_size_kb = memory_size_bytes / 1024\n",
    "print(f\"Array: {my_array}\")\n",
    "print(f\"Size of memory occupied by the array: {memory_size_bytes} bytes ({memory_size_kb:.2f} KB)\")"
   ]
  },
  {
   "cell_type": "code",
   "execution_count": 5,
   "metadata": {},
   "outputs": [
    {
     "name": "stdout",
     "output_type": "stream",
     "text": [
      "[30 31 32 33 34 35 36 37 38 39 40 41 42 43 44 45 46 47 48 49 50 51 52 53\n",
      " 54 55 56 57 58 59 60 61 62 63 64 65 66 67 68 69 70]\n"
     ]
    }
   ],
   "source": [
    "import numpy as np\n",
    "my_array = np.arange(30, 71)\n",
    "print(my_array)"
   ]
  },
  {
   "cell_type": "code",
   "execution_count": 6,
   "metadata": {},
   "outputs": [
    {
     "name": "stdout",
     "output_type": "stream",
     "text": [
      "[30 32 34 36 38 40 42 44 46 48 50 52 54 56 58 60 62 64 66 68 70]\n"
     ]
    }
   ],
   "source": [
    "import numpy as np\n",
    "even_integers = np.arange(30, 71, 2)\n",
    "print(even_integers)"
   ]
  },
  {
   "cell_type": "code",
   "execution_count": 7,
   "metadata": {},
   "outputs": [
    {
     "name": "stdout",
     "output_type": "stream",
     "text": [
      "[[1. 0. 0.]\n",
      " [0. 1. 0.]\n",
      " [0. 0. 1.]]\n"
     ]
    }
   ],
   "source": [
    "import numpy as np\n",
    "identity_matrix = np.identity(3)\n",
    "print(identity_matrix)"
   ]
  }
 ],
 "metadata": {
  "kernelspec": {
   "display_name": "Python 3",
   "language": "python",
   "name": "python3"
  },
  "language_info": {
   "codemirror_mode": {
    "name": "ipython",
    "version": 3
   },
   "file_extension": ".py",
   "mimetype": "text/x-python",
   "name": "python",
   "nbconvert_exporter": "python",
   "pygments_lexer": "ipython3",
   "version": "3.11.3"
  },
  "orig_nbformat": 4
 },
 "nbformat": 4,
 "nbformat_minor": 2
}
